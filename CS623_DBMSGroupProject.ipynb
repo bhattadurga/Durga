{
 "cells": [
  {
   "cell_type": "code",
   "execution_count": 17,
   "metadata": {},
   "outputs": [
    {
     "name": "stdout",
     "output_type": "stream",
     "text": [
      "Requirement already satisfied: tabulate in c:\\users\\bindu\\appdata\\local\\programs\\python\\python312\\lib\\site-packages (0.9.0)Note: you may need to restart the kernel to use updated packages.\n",
      "\n"
     ]
    }
   ],
   "source": [
    "pip install tabulate"
   ]
  },
  {
   "cell_type": "code",
   "execution_count": 18,
   "metadata": {},
   "outputs": [],
   "source": [
    "import psycopg2\n",
    "from tabulate import tabulate"
   ]
  },
  {
   "cell_type": "code",
   "execution_count": 19,
   "metadata": {},
   "outputs": [
    {
     "name": "stdout",
     "output_type": "stream",
     "text": [
      "Beginning\n"
     ]
    }
   ],
   "source": [
    "print(\"Beginning\")"
   ]
  },
  {
   "cell_type": "code",
   "execution_count": 3,
   "metadata": {},
   "outputs": [
    {
     "name": "stdout",
     "output_type": "stream",
     "text": [
      "<connection object at 0x000001C974DBABD0; dsn: 'user=postgres password=xxx dbname=demo host=localhost', closed: 0>\n"
     ]
    }
   ],
   "source": [
    "import psycopg2\n",
    "\n",
    "# Connect to your PostgreSQL database\n",
    "con = psycopg2.connect(\n",
    "            host=\"localhost\",\n",
    "            database=\"demo\",\n",
    "            user=\"postgres\",\n",
    "            password=\"Kavya@1997\");\n",
    "print(con)\n",
    "\n",
    "#For isolation: SERIALIZABLE\n",
    "con.set_isolation_level(3)\n",
    "    \n",
    "# For atomicity\n",
    "con.autocommit = False"
   ]
  },
  {
   "cell_type": "code",
   "execution_count": 4,
   "metadata": {},
   "outputs": [
    {
     "name": "stdout",
     "output_type": "stream",
     "text": [
      "Connected to the database successfully.\n"
     ]
    }
   ],
   "source": [
    "try:\n",
    "    # Create a cursor object\n",
    "    cur = con.cursor()\n",
    "    print(\"Connected to the database successfully.\")\n",
    " \n",
    "    \n",
    "except Exception as e:\n",
    "    print(\"An error occurred while connecting to the database: {e}\")"
   ]
  },
  {
   "cell_type": "code",
   "execution_count": 5,
   "metadata": {},
   "outputs": [
    {
     "name": "stdout",
     "output_type": "stream",
     "text": [
      "ALTER TABLE statement executed successfully.\n"
     ]
    }
   ],
   "source": [
    "try:\n",
    "    # Start a transaction for UPDATE and DELETE CASCADE on Stock Table\n",
    "    cur.execute(\"BEGIN TRANSACTION\")\n",
    "\n",
    "    # Check if the \"Stock\" table exists\n",
    "    cur.execute(\n",
    "        \"SELECT EXISTS (SELECT 1 FROM information_schema.tables WHERE table_name = 'stock')\"\n",
    "    )\n",
    "    stock_exists = cur.fetchone()[0]\n",
    "\n",
    "    if stock_exists:\n",
    "        # Define the ALTER TABLE statement\n",
    "        alter_table_query = (\"\"\"\n",
    "            ALTER TABLE Stock\n",
    "            ADD CONSTRAINT FK_stock_product FOREIGN KEY (prodid) REFERENCES Product(prodid) ON UPDATE CASCADE ON DELETE CASCADE,\n",
    "            ADD CONSTRAINT FK_stock_depot FOREIGN KEY (depid) REFERENCES Depot(depid) ON UPDATE CASCADE ON DELETE CASCADE;\n",
    "        \"\"\");\n",
    "\n",
    "        # Execute the ALTER TABLE statement\n",
    "        cur.execute(alter_table_query)\n",
    "        print(\"ALTER TABLE statement executed successfully.\")\n",
    "    else:\n",
    "        print(\"The 'Stock' table does not exist.\")\n",
    "\n",
    "    # Commit the transaction\n",
    "    con.commit()\n",
    "except Exception as e:\n",
    "    # Rollback the transaction if an error occurs\n",
    "    con.rollback()\n",
    "    print(\"Failed to execute ALTER TABLE statement:\", e)"
   ]
  },
  {
   "cell_type": "code",
   "execution_count": 6,
   "metadata": {},
   "outputs": [],
   "source": [
    "# 1.Define function for first transaction\n",
    "def delete_product_p1():\n",
    "    try:\n",
    "        # Start first transaction\n",
    "        cur.execute(\"BEGIN TRANSACTION\");\n",
    "\n",
    "        # Delete the prodid p1 from the Product table\n",
    "        cur.execute(\"DELETE FROM Product WHERE prodid='p1'\");\n",
    "\n",
    "        # delete the proid p1 from the Stock table\n",
    "        cur.execute(\"DELETE FROM Stock WHERE prodid='p1'\");\n",
    "\n",
    "        # Commit the transaction\n",
    "        con.commit()\n",
    "        print(\"Transaction 1: Product p1 deleted successfully.\")\n",
    "        \n",
    "    except Exception as e:\n",
    "         # Rollback the transaction if an error occurs\n",
    "        con.rollback()\n",
    "        print(\"Transaction 1 failed:\", e)\n"
   ]
  },
  {
   "cell_type": "code",
   "execution_count": 7,
   "metadata": {},
   "outputs": [],
   "source": [
    "# 2.Define function for second transaction\n",
    "def delete_depot_d1():\n",
    "    try:\n",
    "        # Start second transaction\n",
    "        cur.execute(\"BEGIN TRANSACTION\");\n",
    "\n",
    "        # Delete the depid d1 from the Depot table\n",
    "        cur.execute(\"DELETE FROM Depot WHERE depid = 'd1'\");\n",
    "\n",
    "        # delete the depid d1 from the Stock table\n",
    "        cur.execute(\"DELETE FROM Stock WHERE depid = 'd1'\");\n",
    "\n",
    "        # Commit the transaction\n",
    "        con.commit()\n",
    "        print(\"Transaction 2: Depot d1 deleted successfully.\")\n",
    "        \n",
    "    except Exception as e:\n",
    "        # Commit the transaction\n",
    "        con.rollback()\n",
    "        print(\"Transaction 2 failed:\", e)"
   ]
  },
  {
   "cell_type": "code",
   "execution_count": 8,
   "metadata": {},
   "outputs": [],
   "source": [
    "# 3.Define function for third transaction\n",
    "def change_product_name_p1():\n",
    "    try:\n",
    "        # Start third transaction\n",
    "        cur.execute(\"BEGIN TRANSACTION\");\n",
    "\n",
    "        # Update the prodid p1 to pp1 in the Product table\n",
    "        cur.execute(\"UPDATE Product SET prodid = 'pp1' WHERE prodid = 'p1'\");\n",
    "\n",
    "        # Update the prodid p1 to pp1 in the Stock table\n",
    "        # cur.execute(\"UPDATE Stock SET prodid = 'pp1' WHERE prodid = 'p1'\");\n",
    "        \n",
    "        # Commit the transaction\n",
    "        con.commit()\n",
    "        print(\"Transaction 3: Prodid changed to pp1 in Product and Stock successfully.\")\n",
    "\n",
    "    except Exception as e:\n",
    "        con.rollback()\n",
    "        print(\"Transaction 3 failed:\", e)"
   ]
  },
  {
   "cell_type": "code",
   "execution_count": 9,
   "metadata": {},
   "outputs": [],
   "source": [
    "# 4.Define function for fourth transaction\n",
    "def change_depot_name_d1():\n",
    "    try:\n",
    "        # Start fourth transaction\n",
    "        cur.execute(\"BEGIN TRANSACTION\");\n",
    "\n",
    "        # Update the depid d1 to dd1 in the Depot table\n",
    "        cur.execute(\"UPDATE Depot SET depid = 'dd1' WHERE depid = 'd1'\");\n",
    "\n",
    "        # Update the depid d1 to dd1 in the Stock table\n",
    "        # cur.execute(\"UPDATE Stock SET depid = 'dd1' WHERE depid = 'd1'\");\n",
    "\n",
    "        # Commit the transaction\n",
    "        con.commit()\n",
    "        print(\"Transaction 4: Depid changed to dd1 in Depot and Stock successfully.\")\n",
    "\n",
    "    except Exception as e:\n",
    "        con.rollback()\n",
    "        print(\"Transaction 4 failed:\", e)  "
   ]
  },
  {
   "cell_type": "code",
   "execution_count": 10,
   "metadata": {},
   "outputs": [],
   "source": [
    "# 5.Define function for fifth transaction\n",
    "def add_new_product():\n",
    "    try:\n",
    "        # Start fifth transaction\n",
    "        cur.execute(\"BEGIN TRANSACTION\");\n",
    "        \n",
    "        # Adding a product in Product  table\n",
    "        cur.execute(\"INSERT INTO Product VALUES ('p100', 'cd', 5)\");\n",
    "        \n",
    "        # Adding a product in Stock table\n",
    "        cur.execute(\"INSERT INTO Stock VALUES ('p100', 'd2', 50)\");\n",
    "        \n",
    "        # Commit the transaction\n",
    "        con.commit()\n",
    "        print(\"Transaction 5: New product added in Product and Stock successfully.\")\n",
    "        \n",
    "    except Exception as e:\n",
    "        # Rollback the transaction if an error occurs\n",
    "        con.rollback()\n",
    "        print(\"Transaction 5 failed:\", e)\n"
   ]
  },
  {
   "cell_type": "code",
   "execution_count": 11,
   "metadata": {},
   "outputs": [],
   "source": [
    "# 6.Define function for sixth transaction\n",
    "def add_new_depot():\n",
    "    try:\n",
    "        # Start sixth transaction\n",
    "        cur.execute(\"BEGIN TRANSACTION\");\n",
    "        \n",
    "        # Adding a depot in Depot table\n",
    "        cur.execute(\"INSERT INTO Depot VALUES ('d100', 'Chicago', 100)\");\n",
    "\n",
    "        # Adding a depot in Stock table\n",
    "        cur.execute(\"INSERT INTO Stock VALUES ('p1', 'd100', 100)\");\n",
    "\n",
    "        # Commit the transaction\n",
    "        con.commit()\n",
    "        print(\"Transaction 6: New product added in Depot and Stock successfully.\")\n",
    "        \n",
    "    except Exception as e:\n",
    "        # Rollback the transaction if an error occurs\n",
    "        con.rollback()\n",
    "        print(\"Transaction 6 failed:\", e)"
   ]
  },
  {
   "cell_type": "code",
   "execution_count": 12,
   "metadata": {},
   "outputs": [
    {
     "name": "stdout",
     "output_type": "stream",
     "text": [
      "Transaction 1: Product p1 deleted successfully.\n",
      "Transaction 2: Depot d1 deleted successfully.\n",
      "Transaction 3: Prodid changed to pp1 in Product and Stock successfully.\n",
      "Transaction 4: Depid changed to dd1 in Depot and Stock successfully.\n",
      "Transaction 5: New product added in Product and Stock successfully.\n",
      "Transaction 6 failed: insert or update on table \"stock\" violates foreign key constraint \"fk_stock_product\"\n",
      "DETAIL:  Key (prodid)=(p1        ) is not present in table \"product\".\n",
      "\n"
     ]
    }
   ],
   "source": [
    " # Call each transaction function\n",
    "delete_product_p1()\n",
    "delete_depot_d1()\n",
    "change_product_name_p1()\n",
    "change_depot_name_d1()\n",
    "add_new_product()\n",
    "add_new_depot()"
   ]
  },
  {
   "cell_type": "code",
   "execution_count": 13,
   "metadata": {},
   "outputs": [
    {
     "name": "stdout",
     "output_type": "stream",
     "text": [
      "PostgreSQL connection is now closed\n",
      "End\n"
     ]
    }
   ],
   "source": [
    "# Close the cursor and connection\n",
    "if con:\n",
    "        con.commit()\n",
    "        cur.close\n",
    "        con.close\n",
    "        print(\"PostgreSQL connection is now closed\")\n",
    "        print(\"End\")"
   ]
  }
 ],
 "metadata": {
  "kernelspec": {
   "display_name": "Python 3",
   "language": "python",
   "name": "python3"
  },
  "language_info": {
   "codemirror_mode": {
    "name": "ipython",
    "version": 3
   },
   "file_extension": ".py",
   "mimetype": "text/x-python",
   "name": "python",
   "nbconvert_exporter": "python",
   "pygments_lexer": "ipython3",
   "version": "3.12.2"
  }
 },
 "nbformat": 4,
 "nbformat_minor": 2
}
